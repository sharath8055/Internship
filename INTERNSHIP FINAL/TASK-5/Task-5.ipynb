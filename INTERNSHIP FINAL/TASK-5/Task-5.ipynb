{
 "cells": [
  {
   "cell_type": "markdown",
   "metadata": {},
   "source": [
    "## TASK-5"
   ]
  },
  {
   "cell_type": "markdown",
   "metadata": {},
   "source": [
    "#### Get the current working directory"
   ]
  },
  {
   "cell_type": "code",
   "execution_count": 57,
   "metadata": {},
   "outputs": [],
   "source": [
    "import os\n",
    "import pandas as pd\n",
    "PATH = os.getcwd()"
   ]
  },
  {
   "cell_type": "markdown",
   "metadata": {},
   "source": [
    "#### Define the data path"
   ]
  },
  {
   "cell_type": "code",
   "execution_count": 2,
   "metadata": {},
   "outputs": [],
   "source": [
    "DATA_PATH = os.path.join(PATH, 'data')\n",
    "data_dir_list = os.listdir(DATA_PATH)"
   ]
  },
  {
   "cell_type": "markdown",
   "metadata": {},
   "source": [
    "#### Get the list of folders inside data path"
   ]
  },
  {
   "cell_type": "code",
   "execution_count": 3,
   "metadata": {},
   "outputs": [
    {
     "name": "stdout",
     "output_type": "stream",
     "text": [
      "['CT_COVID', 'CT_NonCOVID']\n"
     ]
    }
   ],
   "source": [
    "print(data_dir_list)"
   ]
  },
  {
   "cell_type": "markdown",
   "metadata": {},
   "source": [
    "#### Required variables declaration and initialization"
   ]
  },
  {
   "cell_type": "code",
   "execution_count": 4,
   "metadata": {},
   "outputs": [],
   "source": [
    "img_rows=224\n",
    "img_cols=224\n",
    "num_channel=3\n",
    "\n",
    "num_epoch=7\n",
    "batch_size=32\n",
    "\n",
    "img_data_list=[]\n",
    "classes_names_list=[]"
   ]
  },
  {
   "cell_type": "markdown",
   "metadata": {},
   "source": [
    "#### Read the images and store them in the list"
   ]
  },
  {
   "cell_type": "code",
   "execution_count": 5,
   "metadata": {},
   "outputs": [
    {
     "name": "stdout",
     "output_type": "stream",
     "text": [
      "Loading images from CT_COVID folder\n",
      "\n",
      "Loading images from CT_NonCOVID folder\n",
      "\n"
     ]
    }
   ],
   "source": [
    "import cv2\n",
    "\n",
    "for dataset in data_dir_list:\n",
    "    classes_names_list.append(dataset) \n",
    "    print ('Loading images from {} folder\\n'.format(dataset)) \n",
    "    img_list=os.listdir(DATA_PATH+'/'+ dataset)\n",
    "    for img in img_list:\n",
    "        input_img=cv2.imread(DATA_PATH + '/'+ dataset + '/'+ img )\n",
    "        input_img_resize=cv2.resize(input_img, (img_rows, img_cols))\n",
    "        img_data_list.append(input_img_resize)"
   ]
  },
  {
   "cell_type": "markdown",
   "metadata": {},
   "source": [
    "#### Get the number of classes"
   ]
  },
  {
   "cell_type": "code",
   "execution_count": 6,
   "metadata": {},
   "outputs": [
    {
     "name": "stdout",
     "output_type": "stream",
     "text": [
      "2\n"
     ]
    }
   ],
   "source": [
    "num_classes = len(classes_names_list)\n",
    "print(num_classes)"
   ]
  },
  {
   "cell_type": "markdown",
   "metadata": {},
   "source": [
    "####  Image preprocessiong"
   ]
  },
  {
   "cell_type": "code",
   "execution_count": 7,
   "metadata": {},
   "outputs": [],
   "source": [
    "import numpy as np\n",
    "\n",
    "img_data = np.array(img_data_list)\n",
    "img_data = img_data.astype('float32')\n",
    "img_data /= 255"
   ]
  },
  {
   "cell_type": "code",
   "execution_count": 8,
   "metadata": {},
   "outputs": [
    {
     "name": "stdout",
     "output_type": "stream",
     "text": [
      "(746, 224, 224, 3)\n"
     ]
    }
   ],
   "source": [
    "print (img_data.shape)"
   ]
  },
  {
   "cell_type": "code",
   "execution_count": 10,
   "metadata": {},
   "outputs": [],
   "source": [
    "num_of_samples = img_data.shape[0]\n",
    "input_shape = img_data[0].shape"
   ]
  },
  {
   "cell_type": "markdown",
   "metadata": {},
   "source": [
    "#### Labelling target variable as class-0 & class-1 for Covid and Non-Covid respectively"
   ]
  },
  {
   "cell_type": "code",
   "execution_count": 11,
   "metadata": {},
   "outputs": [],
   "source": [
    "classes = np.ones((num_of_samples,), dtype='int64')\n",
    "\n",
    "classes[0:348]=0\n",
    "classes[348:]=1\n"
   ]
  },
  {
   "cell_type": "markdown",
   "metadata": {},
   "source": [
    "Convert class labels to numeric using on-hot encoding"
   ]
  },
  {
   "cell_type": "code",
   "execution_count": 12,
   "metadata": {},
   "outputs": [
    {
     "name": "stderr",
     "output_type": "stream",
     "text": [
      "C:\\Users\\Sharo\\Anaconda3\\lib\\site-packages\\h5py\\__init__.py:36: FutureWarning: Conversion of the second argument of issubdtype from `float` to `np.floating` is deprecated. In future, it will be treated as `np.float64 == np.dtype(float).type`.\n",
      "  from ._conv import register_converters as _register_converters\n",
      "Using TensorFlow backend.\n"
     ]
    }
   ],
   "source": [
    "from keras.utils import to_categorical\n",
    "\n",
    "classes = to_categorical(classes, num_classes)"
   ]
  },
  {
   "cell_type": "markdown",
   "metadata": {},
   "source": [
    "#### Shuffle the dataset"
   ]
  },
  {
   "cell_type": "code",
   "execution_count": 13,
   "metadata": {},
   "outputs": [],
   "source": [
    "from sklearn.utils import shuffle\n",
    "\n",
    "X, Y = shuffle(img_data, classes, random_state=2)"
   ]
  },
  {
   "cell_type": "markdown",
   "metadata": {},
   "source": [
    "#### Split the dataset"
   ]
  },
  {
   "cell_type": "code",
   "execution_count": 14,
   "metadata": {},
   "outputs": [],
   "source": [
    "from sklearn.model_selection import train_test_split\n",
    "\n",
    "X_train, X_test, y_train, y_test = train_test_split(X, Y, test_size=0.2, random_state=2)"
   ]
  },
  {
   "cell_type": "code",
   "execution_count": 15,
   "metadata": {},
   "outputs": [
    {
     "data": {
      "text/plain": [
       "(150, 2)"
      ]
     },
     "execution_count": 15,
     "metadata": {},
     "output_type": "execute_result"
    }
   ],
   "source": [
    "y_test.shape"
   ]
  },
  {
   "cell_type": "markdown",
   "metadata": {},
   "source": [
    "####  Defining the model"
   ]
  },
  {
   "cell_type": "code",
   "execution_count": 16,
   "metadata": {},
   "outputs": [],
   "source": [
    "from keras.models import Sequential\n",
    "from keras.layers import Dense, Dropout, Flatten\n",
    "from keras.layers import Conv2D, MaxPooling2D"
   ]
  },
  {
   "cell_type": "code",
   "execution_count": 17,
   "metadata": {},
   "outputs": [],
   "source": [
    "model = Sequential()\n",
    "\n",
    "model.add(Conv2D(32, (3, 3), activation='relu', input_shape=input_shape))\n",
    "model.add(Conv2D(32, (3, 3), activation='relu'))\n",
    "model.add(MaxPooling2D(pool_size=(2, 2)))\n",
    "model.add(Dropout(0.5))\n",
    "model.add(Dropout(0.5))\n",
    "\n",
    "model.add(Flatten())\n",
    "model.add(Dense(64, activation='relu'))\n",
    "model.add(Dropout(0.5))\n",
    "model.add(Dense(num_classes, activation='softmax'))"
   ]
  },
  {
   "cell_type": "markdown",
   "metadata": {},
   "source": [
    "####  Compile the model"
   ]
  },
  {
   "cell_type": "code",
   "execution_count": 18,
   "metadata": {},
   "outputs": [],
   "source": [
    "model.compile(loss='categorical_crossentropy', optimizer='rmsprop', metrics=[\"accuracy\"])"
   ]
  },
  {
   "cell_type": "markdown",
   "metadata": {},
   "source": [
    "#### Model Summary"
   ]
  },
  {
   "cell_type": "code",
   "execution_count": 19,
   "metadata": {},
   "outputs": [
    {
     "name": "stdout",
     "output_type": "stream",
     "text": [
      "Model: \"sequential_1\"\n",
      "_________________________________________________________________\n",
      "Layer (type)                 Output Shape              Param #   \n",
      "=================================================================\n",
      "conv2d_1 (Conv2D)            (None, 222, 222, 32)      896       \n",
      "_________________________________________________________________\n",
      "conv2d_2 (Conv2D)            (None, 220, 220, 32)      9248      \n",
      "_________________________________________________________________\n",
      "max_pooling2d_1 (MaxPooling2 (None, 110, 110, 32)      0         \n",
      "_________________________________________________________________\n",
      "dropout_1 (Dropout)          (None, 110, 110, 32)      0         \n",
      "_________________________________________________________________\n",
      "dropout_2 (Dropout)          (None, 110, 110, 32)      0         \n",
      "_________________________________________________________________\n",
      "flatten_1 (Flatten)          (None, 387200)            0         \n",
      "_________________________________________________________________\n",
      "dense_1 (Dense)              (None, 64)                24780864  \n",
      "_________________________________________________________________\n",
      "dropout_3 (Dropout)          (None, 64)                0         \n",
      "_________________________________________________________________\n",
      "dense_2 (Dense)              (None, 2)                 130       \n",
      "=================================================================\n",
      "Total params: 24,791,138\n",
      "Trainable params: 24,791,138\n",
      "Non-trainable params: 0\n",
      "_________________________________________________________________\n"
     ]
    }
   ],
   "source": [
    "model.summary()"
   ]
  },
  {
   "cell_type": "markdown",
   "metadata": {},
   "source": [
    "#### Training/fit the model "
   ]
  },
  {
   "cell_type": "code",
   "execution_count": 40,
   "metadata": {
    "scrolled": true
   },
   "outputs": [
    {
     "name": "stdout",
     "output_type": "stream",
     "text": [
      "Train on 596 samples, validate on 150 samples\n",
      "Epoch 1/7\n",
      "596/596 [==============================] - 74s 124ms/step - loss: 0.3799 - accuracy: 0.8574 - val_loss: 0.5568 - val_accuracy: 0.7533\n",
      "Epoch 2/7\n",
      "596/596 [==============================] - 78s 131ms/step - loss: 0.2212 - accuracy: 0.9329 - val_loss: 0.6421 - val_accuracy: 0.7333\n",
      "Epoch 3/7\n",
      "596/596 [==============================] - 77s 129ms/step - loss: 0.2143 - accuracy: 0.9228 - val_loss: 0.9353 - val_accuracy: 0.7267\n",
      "Epoch 4/7\n",
      "596/596 [==============================] - 86s 144ms/step - loss: 0.1142 - accuracy: 0.9564 - val_loss: 0.9003 - val_accuracy: 0.7467\n",
      "Epoch 5/7\n",
      "596/596 [==============================] - 81s 136ms/step - loss: 0.3216 - accuracy: 0.9228 - val_loss: 0.7355 - val_accuracy: 0.7067\n",
      "Epoch 6/7\n",
      "596/596 [==============================] - 81s 136ms/step - loss: 0.0705 - accuracy: 0.9883 - val_loss: 1.2882 - val_accuracy: 0.6800\n",
      "Epoch 7/7\n",
      "596/596 [==============================] - 85s 143ms/step - loss: 0.0877 - accuracy: 0.9715 - val_loss: 1.0196 - val_accuracy: 0.7200\n"
     ]
    }
   ],
   "source": [
    "hist = model.fit(X_train, y_train, batch_size=batch_size, epochs=num_epoch, verbose=1, validation_data=(X_test, y_test))"
   ]
  },
  {
   "cell_type": "markdown",
   "metadata": {},
   "source": [
    "#### Evaluating the model"
   ]
  },
  {
   "cell_type": "code",
   "execution_count": 41,
   "metadata": {},
   "outputs": [
    {
     "name": "stdout",
     "output_type": "stream",
     "text": [
      "150/150 [==============================] - 4s 24ms/step\n",
      "Test Loss: 1.0195754154523213\n",
      "Test Accuracy: 0.7200000286102295\n"
     ]
    }
   ],
   "source": [
    "score = model.evaluate(X_test, y_test, batch_size=batch_size)\n",
    "\n",
    "print('Test Loss:', score[0])\n",
    "print('Test Accuracy:', score[1])"
   ]
  },
  {
   "cell_type": "markdown",
   "metadata": {},
   "source": [
    "#### Saving and loading model\n"
   ]
  },
  {
   "cell_type": "code",
   "execution_count": 42,
   "metadata": {},
   "outputs": [],
   "source": [
    "model.save(\"model_test.hdf5\")  #Saving Model"
   ]
  },
  {
   "cell_type": "code",
   "execution_count": 43,
   "metadata": {},
   "outputs": [],
   "source": [
    "from keras.models import load_model  # Loading Model\n",
    "model = load_model('model_test.hdf5')"
   ]
  },
  {
   "cell_type": "code",
   "execution_count": 44,
   "metadata": {},
   "outputs": [
    {
     "name": "stdout",
     "output_type": "stream",
     "text": [
      "Model: \"sequential_1\"\n",
      "_________________________________________________________________\n",
      "Layer (type)                 Output Shape              Param #   \n",
      "=================================================================\n",
      "conv2d_1 (Conv2D)            (None, 222, 222, 32)      896       \n",
      "_________________________________________________________________\n",
      "conv2d_2 (Conv2D)            (None, 220, 220, 32)      9248      \n",
      "_________________________________________________________________\n",
      "max_pooling2d_1 (MaxPooling2 (None, 110, 110, 32)      0         \n",
      "_________________________________________________________________\n",
      "dropout_1 (Dropout)          (None, 110, 110, 32)      0         \n",
      "_________________________________________________________________\n",
      "dropout_2 (Dropout)          (None, 110, 110, 32)      0         \n",
      "_________________________________________________________________\n",
      "flatten_1 (Flatten)          (None, 387200)            0         \n",
      "_________________________________________________________________\n",
      "dense_1 (Dense)              (None, 64)                24780864  \n",
      "_________________________________________________________________\n",
      "dropout_3 (Dropout)          (None, 64)                0         \n",
      "_________________________________________________________________\n",
      "dense_2 (Dense)              (None, 2)                 130       \n",
      "=================================================================\n",
      "Total params: 24,791,138\n",
      "Trainable params: 24,791,138\n",
      "Non-trainable params: 0\n",
      "_________________________________________________________________\n"
     ]
    }
   ],
   "source": [
    "model.summary()"
   ]
  },
  {
   "cell_type": "markdown",
   "metadata": {},
   "source": [
    "#### Uploading Single image and predicting using loaded model"
   ]
  },
  {
   "cell_type": "code",
   "execution_count": 45,
   "metadata": {},
   "outputs": [
    {
     "name": "stdout",
     "output_type": "stream",
     "text": [
      "Populating the interactive namespace from numpy and matplotlib\n"
     ]
    },
    {
     "name": "stderr",
     "output_type": "stream",
     "text": [
      "C:\\Users\\Sharo\\Anaconda3\\lib\\site-packages\\IPython\\core\\magics\\pylab.py:160: UserWarning: pylab import has clobbered these variables: ['hist']\n",
      "`%matplotlib` prevents importing * from pylab and numpy\n",
      "  \"\\n`%matplotlib` prevents importing * from pylab and numpy\"\n"
     ]
    },
    {
     "data": {
      "image/png": "[encoded data removed]",
      "text/plain": [
       "<Figure size 432x288 with 1 Axes>"
      ]
     },
     "metadata": {},
     "output_type": "display_data"
    }
   ],
   "source": [
    "from keras.preprocessing import image\n",
    "%pylab inline\n",
    "import matplotlib.pyplot as plt\n",
    "\n",
    "img = image.load_img('123.png', target_size=(img_rows, img_cols))\n",
    "x = image.img_to_array(img)\n",
    "x = np.expand_dims(x, axis=0)\n",
    "\n",
    "imgplot = plt.imshow(img)\n",
    "plt.show()"
   ]
  },
  {
   "cell_type": "code",
   "execution_count": 46,
   "metadata": {},
   "outputs": [
    {
     "name": "stdout",
     "output_type": "stream",
     "text": [
      "The image predicted probability is:  [[0. 1.]]\n",
      "The given image belongs to class: [1]\n"
     ]
    }
   ],
   "source": [
    "pred=model.predict(x)\n",
    "clas= model.predict_classes(x)\n",
    "print(\"The image predicted probability is: \", pred)\n",
    "print(\"The given image belongs to class: {}\".format(clas))\n",
    "\n"
   ]
  },
  {
   "cell_type": "markdown",
   "metadata": {},
   "source": [
    "### Testing from the dataset"
   ]
  },
  {
   "cell_type": "code",
   "execution_count": 47,
   "metadata": {},
   "outputs": [
    {
     "name": "stdout",
     "output_type": "stream",
     "text": [
      "(20, 224, 224, 3)\n"
     ]
    }
   ],
   "source": [
    "test_image = X_test[0:20]\n",
    "print (test_image.shape)"
   ]
  },
  {
   "cell_type": "code",
   "execution_count": 48,
   "metadata": {},
   "outputs": [
    {
     "name": "stdout",
     "output_type": "stream",
     "text": [
      "[[6.7532010e-02 9.3246800e-01]\n",
      " [1.0787813e-02 9.8921216e-01]\n",
      " [2.3975015e-01 7.6024991e-01]\n",
      " [2.4028665e-01 7.5971341e-01]\n",
      " [9.9896038e-01 1.0395981e-03]\n",
      " [9.9856997e-01 1.4299549e-03]\n",
      " [7.3393062e-11 1.0000000e+00]\n",
      " [9.9993205e-01 6.7985478e-05]\n",
      " [1.4938124e-02 9.8506194e-01]\n",
      " [1.0167240e-01 8.9832759e-01]\n",
      " [9.9999475e-01 5.2452210e-06]\n",
      " [2.7347487e-01 7.2652513e-01]\n",
      " [9.1778159e-01 8.2218386e-02]\n",
      " [5.2417904e-01 4.7582090e-01]\n",
      " [9.5567727e-01 4.4322781e-02]\n",
      " [9.8947841e-01 1.0521588e-02]\n",
      " [1.0395520e-07 9.9999988e-01]\n",
      " [9.9023598e-01 9.7639849e-03]\n",
      " [9.8380351e-01 1.6196536e-02]\n",
      " [9.5171583e-01 4.8284132e-02]]\n",
      "[1 1 1 1 0 0 1 0 1 1 0 1 0 0 0 0 1 0 0 0]\n"
     ]
    }
   ],
   "source": [
    "print(model.predict(test_image))\n",
    "print(model.predict_classes(test_image))\n"
   ]
  },
  {
   "cell_type": "markdown",
   "metadata": {},
   "source": [
    "###### From above, we can see that 1st image Belongs to class-1 while 5th image belongs to class-0, testing the same"
   ]
  },
  {
   "cell_type": "code",
   "execution_count": 49,
   "metadata": {},
   "outputs": [
    {
     "name": "stdout",
     "output_type": "stream",
     "text": [
      "(1, 224, 224, 3)\n",
      "[[0.06753203 0.932468  ]]\n",
      "The given image belongs to class:  [1]\n"
     ]
    }
   ],
   "source": [
    "# Tesing 1st image which belongs to class-1\n",
    "\n",
    "test_image = X_test[0:1]\n",
    "print (test_image.shape)\n",
    "print(model.predict(test_image))\n",
    "print(\"The given image belongs to class: \",model.predict_classes(test_image))"
   ]
  },
  {
   "cell_type": "code",
   "execution_count": 50,
   "metadata": {},
   "outputs": [
    {
     "name": "stdout",
     "output_type": "stream",
     "text": [
      "(1, 224, 224, 3)\n",
      "[[0.9989604  0.00103959]]\n",
      "The given image belongs to class:  [0]\n"
     ]
    }
   ],
   "source": [
    "# Tesing 5th image which belongs to class-0\n",
    "\n",
    "test_image = X_test[4:5]\n",
    "print (test_image.shape)\n",
    "print(model.predict(test_image))\n",
    "print(\"The given image belongs to class: \",model.predict_classes(test_image))"
   ]
  },
  {
   "cell_type": "markdown",
   "metadata": {},
   "source": [
    "#### Predict and compute the confusion matrix"
   ]
  },
  {
   "cell_type": "code",
   "execution_count": 51,
   "metadata": {},
   "outputs": [],
   "source": [
    "from sklearn.metrics import confusion_matrix\n",
    "\n",
    "Y_pred = model.predict(X_test)\n"
   ]
  },
  {
   "cell_type": "code",
   "execution_count": 52,
   "metadata": {},
   "outputs": [
    {
     "name": "stdout",
     "output_type": "stream",
     "text": [
      "[1 1 1 1 0 0 1 0 1 1 0 1 0 0 0 0 1 0 0 0 1 1 1 1 1 1 1 0 1 1 0 0 1 1 0 1 1\n",
      " 1 1 0 0 1 1 1 0 0 0 1 0 1 0 1 1 1 1 1 1 0 1 1 0 0 1 1 0 0 0 1 1 0 1 0 0 1\n",
      " 1 1 1 1 0 1 1 1 1 1 0 0 0 1 0 1 1 0 1 1 1 1 1 0 0 0 0 0 1 1 0 1 1 1 0 1 1\n",
      " 0 0 0 0 0 1 0 0 1 1 0 0 1 0 1 0 1 0 1 0 1 0 0 1 1 0 0 0 0 0 1 0 0 1 1 1 0\n",
      " 0 0]\n"
     ]
    }
   ],
   "source": [
    "y_pred = np.argmax(Y_pred, axis=1)\n",
    "print(y_pred)"
   ]
  },
  {
   "cell_type": "code",
   "execution_count": 53,
   "metadata": {},
   "outputs": [
    {
     "name": "stdout",
     "output_type": "stream",
     "text": [
      "[[46 19]\n",
      " [23 62]]\n"
     ]
    }
   ],
   "source": [
    "print(confusion_matrix(np.argmax(y_test, axis=1), y_pred))"
   ]
  },
  {
   "cell_type": "markdown",
   "metadata": {},
   "source": [
    "### Experimental & Issues Faced - Organising folders"
   ]
  },
  {
   "cell_type": "code",
   "execution_count": 54,
   "metadata": {},
   "outputs": [],
   "source": [
    "import os,shutil"
   ]
  },
  {
   "cell_type": "code",
   "execution_count": 55,
   "metadata": {},
   "outputs": [],
   "source": [
    "sourcefile=\"C:/Users/Sharo/Dropbox/DATA SCIENCE/INTERNSHIP/TASK-5/data\""
   ]
  },
  {
   "cell_type": "code",
   "execution_count": 58,
   "metadata": {},
   "outputs": [],
   "source": [
    "train= pd.read_excel('NonCOVID-CT-MetaInfo.xlsx',index_col=0) "
   ]
  },
  {
   "cell_type": "code",
   "execution_count": 59,
   "metadata": {},
   "outputs": [
    {
     "data": {
      "text/html": [
       "<div>\n",
       "<style scoped>\n",
       "    .dataframe tbody tr th:only-of-type {\n",
       "        vertical-align: middle;\n",
       "    }\n",
       "\n",
       "    .dataframe tbody tr th {\n",
       "        vertical-align: top;\n",
       "    }\n",
       "\n",
       "    .dataframe thead th {\n",
       "        text-align: right;\n",
       "    }\n",
       "</style>\n",
       "<table border=\"1\" class=\"dataframe\">\n",
       "  <thead>\n",
       "    <tr style=\"text-align: right;\">\n",
       "      <th></th>\n",
       "      <th>image_name</th>\n",
       "      <th>patient id</th>\n",
       "    </tr>\n",
       "  </thead>\n",
       "  <tbody>\n",
       "    <tr>\n",
       "      <th>0</th>\n",
       "      <td>0.jpg</td>\n",
       "      <td>crawled_patient_0</td>\n",
       "    </tr>\n",
       "    <tr>\n",
       "      <th>1</th>\n",
       "      <td>1%0.jpg</td>\n",
       "      <td>crawled_patient_1</td>\n",
       "    </tr>\n",
       "    <tr>\n",
       "      <th>2</th>\n",
       "      <td>1%1.jpg</td>\n",
       "      <td>crawled_patient_1</td>\n",
       "    </tr>\n",
       "    <tr>\n",
       "      <th>3</th>\n",
       "      <td>1%2.jpg</td>\n",
       "      <td>crawled_patient_1</td>\n",
       "    </tr>\n",
       "    <tr>\n",
       "      <th>4</th>\n",
       "      <td>10%0.jpg</td>\n",
       "      <td>crawled_patient_10</td>\n",
       "    </tr>\n",
       "  </tbody>\n",
       "</table>\n",
       "</div>"
      ],
      "text/plain": [
       "  image_name          patient id\n",
       "0      0.jpg   crawled_patient_0\n",
       "1    1%0.jpg   crawled_patient_1\n",
       "2    1%1.jpg   crawled_patient_1\n",
       "3    1%2.jpg   crawled_patient_1\n",
       "4   10%0.jpg  crawled_patient_10"
      ]
     },
     "execution_count": 59,
     "metadata": {},
     "output_type": "execute_result"
    }
   ],
   "source": [
    "train.head(5)"
   ]
  },
  {
   "cell_type": "code",
   "execution_count": 61,
   "metadata": {},
   "outputs": [],
   "source": [
    "patient_ids = list(train['patient id'].unique())"
   ]
  },
  {
   "cell_type": "markdown",
   "metadata": {},
   "source": [
    "#### Total 171 unique patients are found and 171 folders has to be created"
   ]
  },
  {
   "cell_type": "code",
   "execution_count": 63,
   "metadata": {},
   "outputs": [
    {
     "data": {
      "text/plain": [
       "171"
      ]
     },
     "execution_count": 63,
     "metadata": {},
     "output_type": "execute_result"
    }
   ],
   "source": [
    "len(patient_ids)"
   ]
  },
  {
   "cell_type": "markdown",
   "metadata": {},
   "source": [
    "#### Succesfully created seperate folders for each patient"
   ]
  },
  {
   "cell_type": "code",
   "execution_count": 66,
   "metadata": {},
   "outputs": [],
   "source": [
    "for w in patient_ids:\n",
    "  os.makedirs('./imgs/'+w)"
   ]
  },
  {
   "cell_type": "markdown",
   "metadata": {},
   "source": [
    "##### individual folders, high quality image attached in the zip file"
   ]
  },
  {
   "cell_type": "code",
   "execution_count": 74,
   "metadata": {},
   "outputs": [
    {
     "data": {
      "image/png": "[encoded data removed]",
      "text/plain": [
       "<Figure size 432x288 with 1 Axes>"
      ]
     },
     "metadata": {},
     "output_type": "display_data"
    }
   ],
   "source": [
    "screen = image.load_img('folders.jpg', target_size=(500,600))\n",
    "imgplot = plt.imshow(screen)\n",
    "plt.show()"
   ]
  },
  {
   "cell_type": "markdown",
   "metadata": {},
   "source": [
    "##### Using Shutil tried to move images to individual folders but was not able to move. It moved the source files both covid and non-covid image folders  to the destination folder but not patients images to individual folders."
   ]
  },
  {
   "cell_type": "code",
   "execution_count": 77,
   "metadata": {},
   "outputs": [
    {
     "name": "stdout",
     "output_type": "stream",
     "text": [
      "0 - crawled_patient_0\n",
      "1 - crawled_patient_1\n",
      "2 - crawled_patient_1\n",
      "3 - crawled_patient_1\n",
      "4 - crawled_patient_10\n",
      "5 - crawled_patient_10\n",
      "6 - crawled_patient_10\n",
      "7 - crawled_patient_11\n",
      "8 - crawled_patient_11\n",
      "9 - crawled_patient_11\n",
      "10 - crawled_patient_12\n",
      "11 - crawled_patient_13\n",
      "12 - crawled_patient_14\n",
      "13 - crawled_patient_14\n",
      "14 - crawled_patient_14\n",
      "15 - crawled_patient_14\n",
      "16 - crawled_patient_15\n",
      "17 - crawled_patient_15\n",
      "18 - crawled_patient_15\n",
      "19 - crawled_patient_15\n",
      "20 - crawled_patient_16\n",
      "21 - crawled_patient_17\n",
      "22 - crawled_patient_17\n",
      "23 - crawled_patient_18\n",
      "24 - crawled_patient_18\n",
      "25 - crawled_patient_18\n",
      "26 - crawled_patient_18\n",
      "27 - crawled_patient_19\n",
      "28 - crawled_patient_19\n",
      "29 - crawled_patient_2\n",
      "30 - crawled_patient_2\n",
      "31 - crawled_patient_2\n",
      "32 - crawled_patient_2\n",
      "33 - crawled_patient_20\n",
      "34 - crawled_patient_21\n",
      "35 - crawled_patient_21\n",
      "36 - crawled_patient_22\n",
      "37 - crawled_patient_22\n",
      "38 - crawled_patient_25\n",
      "39 - crawled_patient_25\n",
      "40 - crawled_patient_25\n",
      "41 - crawled_patient_25\n",
      "42 - crawled_patient_26\n",
      "43 - crawled_patient_26\n",
      "44 - crawled_patient_26\n",
      "45 - crawled_patient_26\n",
      "46 - crawled_patient_27\n",
      "47 - crawled_patient_28\n",
      "48 - crawled_patient_29\n",
      "49 - crawled_patient_29\n",
      "50 - crawled_patient_29\n",
      "51 - crawled_patient_29\n",
      "52 - crawled_patient_3\n",
      "53 - crawled_patient_30\n",
      "54 - crawled_patient_30\n",
      "55 - crawled_patient_30\n",
      "56 - crawled_patient_30\n",
      "57 - crawled_patient_30\n",
      "58 - crawled_patient_30\n",
      "59 - crawled_patient_31\n",
      "60 - crawled_patient_32\n",
      "61 - crawled_patient_32\n",
      "62 - crawled_patient_33\n",
      "63 - crawled_patient_33\n",
      "64 - crawled_patient_34\n",
      "65 - crawled_patient_35\n",
      "66 - crawled_patient_35\n",
      "67 - crawled_patient_35\n",
      "68 - crawled_patient_36\n",
      "69 - crawled_patient_36\n",
      "70 - crawled_patient_37\n",
      "71 - crawled_patient_37\n",
      "72 - crawled_patient_37\n",
      "73 - crawled_patient_37\n",
      "74 - crawled_patient_37\n",
      "75 - crawled_patient_38\n",
      "76 - crawled_patient_38\n",
      "77 - crawled_patient_38\n",
      "78 - crawled_patient_39\n",
      "79 - crawled_patient_39\n",
      "80 - crawled_patient_39\n",
      "81 - crawled_patient_39\n",
      "82 - crawled_patient_39\n",
      "83 - crawled_patient_39\n",
      "84 - crawled_patient_39\n",
      "85 - crawled_patient_39\n",
      "86 - crawled_patient_39\n",
      "87 - crawled_patient_4\n",
      "88 - crawled_patient_4\n",
      "89 - crawled_patient_4\n",
      "90 - crawled_patient_4\n",
      "91 - crawled_patient_40\n",
      "92 - crawled_patient_40\n",
      "93 - crawled_patient_41\n",
      "94 - crawled_patient_42\n",
      "95 - crawled_patient_43\n",
      "96 - crawled_patient_43\n",
      "97 - crawled_patient_43\n",
      "98 - crawled_patient_44\n",
      "99 - crawled_patient_44\n",
      "100 - crawled_patient_45\n",
      "101 - crawled_patient_46\n",
      "102 - crawled_patient_47\n",
      "103 - crawled_patient_48\n",
      "104 - crawled_patient_49\n",
      "105 - crawled_patient_49\n",
      "106 - crawled_patient_5\n",
      "107 - crawled_patient_5\n",
      "108 - crawled_patient_5\n",
      "109 - crawled_patient_5\n",
      "110 - crawled_patient_5\n",
      "111 - crawled_patient_5\n",
      "112 - crawled_patient_5\n",
      "113 - crawled_patient_5\n",
      "114 - crawled_patient_50\n",
      "115 - crawled_patient_51\n",
      "116 - crawled_patient_51\n",
      "117 - crawled_patient_51\n",
      "118 - crawled_patient_51\n",
      "119 - crawled_patient_52\n",
      "120 - crawled_patient_52\n",
      "121 - crawled_patient_53\n",
      "122 - crawled_patient_54\n",
      "123 - crawled_patient_54\n",
      "124 - crawled_patient_54\n",
      "125 - crawled_patient_54\n",
      "126 - crawled_patient_56\n",
      "127 - crawled_patient_56\n",
      "128 - crawled_patient_57\n",
      "129 - crawled_patient_59\n",
      "130 - crawled_patient_6\n",
      "131 - crawled_patient_6\n",
      "132 - crawled_patient_6\n",
      "133 - crawled_patient_6\n",
      "134 - crawled_patient_60\n",
      "135 - crawled_patient_62\n",
      "136 - crawled_patient_63\n",
      "137 - crawled_patient_63\n",
      "138 - crawled_patient_63\n",
      "139 - crawled_patient_63\n",
      "140 - crawled_patient_63\n",
      "141 - crawled_patient_63\n",
      "142 - crawled_patient_63\n",
      "143 - crawled_patient_63\n",
      "144 - crawled_patient_64\n",
      "145 - crawled_patient_65\n",
      "146 - crawled_patient_65\n",
      "147 - crawled_patient_65\n",
      "148 - crawled_patient_65\n",
      "149 - crawled_patient_65\n",
      "150 - crawled_patient_66\n",
      "151 - crawled_patient_67\n",
      "152 - crawled_patient_67\n",
      "153 - crawled_patient_67\n",
      "154 - crawled_patient_68\n",
      "155 - crawled_patient_69\n",
      "156 - crawled_patient_69\n",
      "157 - crawled_patient_7\n",
      "158 - crawled_patient_70\n",
      "159 - crawled_patient_70\n",
      "160 - crawled_patient_71\n",
      "161 - crawled_patient_71\n",
      "162 - crawled_patient_72\n",
      "163 - crawled_patient_73\n",
      "164 - crawled_patient_74\n",
      "165 - crawled_patient_75\n",
      "166 - crawled_patient_75\n",
      "167 - crawled_patient_76\n",
      "168 - crawled_patient_76\n",
      "169 - crawled_patient_76\n",
      "170 - crawled_patient_77\n",
      "171 - crawled_patient_78\n",
      "172 - crawled_patient_79\n",
      "173 - crawled_patient_8\n",
      "174 - crawled_patient_80\n",
      "175 - crawled_patient_80\n",
      "176 - crawled_patient_81\n",
      "177 - crawled_patient_81\n",
      "178 - crawled_patient_81\n",
      "179 - crawled_patient_81\n",
      "180 - crawled_patient_82\n",
      "181 - crawled_patient_82\n",
      "182 - crawled_patient_82\n",
      "183 - crawled_patient_82\n",
      "184 - crawled_patient_83\n",
      "185 - crawled_patient_83\n",
      "186 - crawled_patient_83\n",
      "187 - crawled_patient_83\n",
      "188 - crawled_patient_84\n",
      "189 - crawled_patient_84\n",
      "190 - crawled_patient_84\n",
      "191 - crawled_patient_84\n",
      "192 - crawled_patient_85\n",
      "193 - crawled_patient_85\n",
      "194 - crawled_patient_86\n",
      "195 - crawled_patient_88\n",
      "196 - crawled_patient_89\n",
      "197 - crawled_patient_89\n",
      "198 - crawled_patient_9\n",
      "199 - crawled_patient_90\n",
      "200 - crawled_patient_91\n",
      "201 - crawled_patient_91\n",
      "202 - medpix_patient_38\n",
      "203 - medpix_patient_38\n",
      "204 - medpix_patient_69\n",
      "205 - medpix_patient_69\n",
      "206 - medpix_patient_69\n",
      "207 - medpix_patient_69\n",
      "208 - medpix_patient_40\n",
      "209 - medpix_patient_67\n",
      "210 - medpix_patient_67\n",
      "211 - medpix_patient_61\n",
      "212 - medpix_patient_81\n",
      "213 - medpix_patient_81\n",
      "214 - medpix_patient_62\n",
      "215 - medpix_patient_62\n",
      "216 - medpix_patient_62\n",
      "217 - medpix_patient_74\n",
      "218 - medpix_patient_82\n",
      "219 - medpix_patient_82\n",
      "220 - medpix_patient_82\n",
      "221 - medpix_patient_82\n",
      "222 - medpix_patient_82\n",
      "223 - medpix_patient_34\n",
      "224 - medpix_patient_37\n",
      "225 - medpix_patient_60\n",
      "226 - medpix_patient_60\n",
      "227 - medpix_patient_78\n",
      "228 - medpix_patient_78\n",
      "229 - medpix_patient_10\n",
      "230 - medpix_patient_10\n",
      "231 - medpix_patient_36\n",
      "232 - medpix_patient_36\n",
      "233 - medpix_patient_64\n",
      "234 - medpix_patient_84\n",
      "235 - medpix_patient_49\n",
      "236 - medpix_patient_20\n",
      "237 - medpix_patient_68\n",
      "238 - medpix_patient_68\n",
      "239 - medpix_patient_68\n",
      "240 - medpix_patient_68\n",
      "241 - medpix_patient_8\n",
      "242 - medpix_patient_8\n",
      "243 - medpix_patient_8\n",
      "244 - medpix_patient_54\n",
      "245 - medpix_patient_25\n",
      "246 - medpix_patient_25\n",
      "247 - medpix_patient_30\n",
      "248 - medpix_patient_30\n",
      "249 - medpix_patient_4\n",
      "250 - medpix_patient_4\n",
      "251 - medpix_patient_4\n",
      "252 - medpix_patient_4\n",
      "253 - medpix_patient_77\n",
      "254 - medpix_patient_77\n",
      "255 - medpix_patient_73\n",
      "256 - medpix_patient_73\n",
      "257 - medpix_patient_73\n",
      "258 - medpix_patient_14\n",
      "259 - medpix_patient_14\n",
      "260 - medpix_patient_14\n",
      "261 - medpix_patient_57\n",
      "262 - medpix_patient_57\n",
      "263 - medpix_patient_57\n",
      "264 - medpix_patient_57\n",
      "265 - medpix_patient_57\n",
      "266 - medpix_patient_47\n",
      "267 - medpix_patient_47\n",
      "268 - medpix_patient_44\n",
      "269 - medpix_patient_44\n",
      "270 - medpix_patient_44\n",
      "271 - medpix_patient_27\n",
      "272 - medpix_patient_43\n",
      "273 - medpix_patient_43\n",
      "274 - medpix_patient_28\n",
      "275 - medpix_patient_28\n",
      "276 - medpix_patient_5\n",
      "277 - medpix_patient_5\n",
      "278 - medpix_patient_66\n",
      "279 - medpix_patient_66\n",
      "280 - medpix_patient_66\n",
      "281 - medpix_patient_11\n",
      "282 - medpix_patient_19\n",
      "283 - medpix_patient_19\n",
      "284 - medpix_patient_21\n",
      "285 - medpix_patient_50\n",
      "286 - medpix_patient_50\n",
      "287 - medpix_patient_55\n",
      "288 - medpix_patient_55\n",
      "289 - medpix_patient_13\n",
      "290 - medpix_patient_13\n",
      "291 - medpix_patient_13\n",
      "292 - medpix_patient_13\n",
      "293 - medpix_patient_13\n",
      "294 - medpix_patient_31\n",
      "295 - medpix_patient_31\n",
      "296 - medpix_patient_31\n",
      "297 - medpix_patient_31\n",
      "298 - medpix_patient_31\n",
      "299 - medpix_patient_80\n",
      "300 - medpix_patient_1\n",
      "301 - medpix_patient_1\n",
      "302 - medpix_patient_1\n",
      "303 - medpix_patient_75\n",
      "304 - medpix_patient_75\n",
      "305 - medpix_patient_45\n",
      "306 - medpix_patient_45\n",
      "307 - medpix_patient_53\n",
      "308 - medpix_patient_17\n",
      "309 - medpix_patient_17\n",
      "310 - medpix_patient_17\n",
      "311 - medpix_patient_70\n",
      "312 - medpix_patient_76\n",
      "313 - medpix_patient_76\n",
      "314 - medpix_patient_79\n",
      "315 - medpix_patient_2\n",
      "316 - medpix_patient_2\n",
      "317 - medpix_patient_2\n",
      "318 - medpix_patient_2\n",
      "319 - medpix_patient_2\n",
      "320 - medpix_patient_2\n",
      "321 - medpix_patient_2\n",
      "322 - medpix_patient_2\n",
      "323 - medpix_patient_2\n",
      "324 - medpix_patient_41\n",
      "325 - medpix_patient_46\n",
      "326 - medpix_patient_23\n",
      "327 - medpix_patient_23\n",
      "328 - medpix_patient_6\n",
      "329 - medpix_patient_6\n",
      "330 - medpix_patient_6\n",
      "331 - medpix_patient_6\n",
      "332 - medpix_patient_58\n",
      "333 - medpix_patient_7\n",
      "334 - medpix_patient_7\n",
      "335 - medpix_patient_15\n",
      "336 - medpix_patient_15\n",
      "337 - medpix_patient_15\n",
      "338 - medpix_patient_15\n",
      "339 - medpix_patient_15\n",
      "340 - medpix_patient_15\n",
      "341 - medpix_patient_26\n",
      "342 - medpix_patient_26\n",
      "343 - medpix_patient_39\n",
      "344 - medpix_patient_39\n",
      "345 - medpix_patient_39\n",
      "346 - medpix_patient_39\n",
      "347 - medpix_patient_39\n",
      "348 - medpix_patient_51\n",
      "349 - medpix_patient_51\n",
      "350 - medpix_patient_42\n",
      "351 - medpix_patient_48\n",
      "352 - medpix_patient_24\n",
      "353 - medpix_patient_24\n",
      "354 - medpix_patient_24\n",
      "355 - medpix_patient_24\n",
      "356 - medpix_patient_24\n",
      "357 - medpix_patient_72\n",
      "358 - medpix_patient_72\n",
      "359 - medpix_patient_59\n",
      "360 - medpix_patient_59\n",
      "361 - medpix_patient_59\n",
      "362 - medpix_patient_83\n",
      "363 - medpix_patient_16\n",
      "364 - medpix_patient_63\n",
      "365 - medpix_patient_29\n",
      "366 - medpix_patient_29\n",
      "367 - medpix_patient_0\n",
      "368 - medpix_patient_0\n",
      "369 - medpix_patient_0\n",
      "370 - medpix_patient_35\n",
      "371 - medpix_patient_22\n",
      "372 - medpix_patient_22\n",
      "373 - medpix_patient_18\n",
      "374 - medpix_patient_18\n",
      "375 - medpix_patient_33\n",
      "376 - medpix_patient_3\n",
      "377 - medpix_patient_3\n",
      "378 - medpix_patient_3\n",
      "379 - medpix_patient_3\n",
      "380 - medpix_patient_3\n",
      "381 - medpix_patient_71\n",
      "382 - medpix_patient_65\n",
      "383 - medpix_patient_56\n",
      "384 - medpix_patient_56\n",
      "385 - medpix_patient_56\n",
      "386 - medpix_patient_12\n",
      "387 - medpix_patient_32\n",
      "388 - medpix_patient_32\n",
      "389 - medpix_patient_32\n",
      "390 - medpix_patient_32\n",
      "391 - medpix_patient_32\n",
      "392 - medpix_patient_32\n",
      "393 - medpix_patient_32\n",
      "394 - medpix_patient_32\n",
      "395 - medpix_patient_52\n",
      "396 - medpix_patient_9\n"
     ]
    },
    {
     "data": {
      "text/plain": [
       "'./imgs/data'"
      ]
     },
     "execution_count": 77,
     "metadata": {},
     "output_type": "execute_result"
    }
   ],
   "source": [
    "\n",
    "for image in train.index:\n",
    "  folder = train.loc[image, 'patient id']\n",
    "  old = './imgs/{}'.format(image)\n",
    "  new = './imgs/{}/{}'.format(folder, image)\n",
    "  try:\n",
    "    os.rename(old, new)\n",
    "  except:\n",
    "    print('{} - {}'.format(image,folder))\n",
    "shutil.move(sourcefile, './imgs/')"
   ]
  }
 ],
 "metadata": {
  "kernelspec": {
   "display_name": "Python 3",
   "language": "python",
   "name": "python3"
  },
  "language_info": {
   "codemirror_mode": {
    "name": "ipython",
    "version": 3
   },
   "file_extension": ".py",
   "mimetype": "text/x-python",
   "name": "python",
   "nbconvert_exporter": "python",
   "pygments_lexer": "ipython3",
   "version": "3.6.5"
  }
 },
 "nbformat": 4,
 "nbformat_minor": 2
}
